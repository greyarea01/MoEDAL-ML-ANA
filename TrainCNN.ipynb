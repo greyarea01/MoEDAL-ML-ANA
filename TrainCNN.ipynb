{
  "cells": [
    {
      "cell_type": "markdown",
      "metadata": {
        "id": "view-in-github",
        "colab_type": "text"
      },
      "source": [
        "<a href=\"https://colab.research.google.com/github/greyarea01/MoEDAL-ML-ANA/blob/main/TrainCNN.ipynb\" target=\"_parent\"><img src=\"https://colab.research.google.com/assets/colab-badge.svg\" alt=\"Open In Colab\"/></a>"
      ]
    },
    {
      "cell_type": "code",
      "execution_count": 3,
      "metadata": {
        "colab": {
          "base_uri": "https://localhost:8080/"
        },
        "id": "_2cC_bAVgYEu",
        "outputId": "6d0b9475-6f70-4cd1-a05f-c291854acfd6"
      },
      "outputs": [
        {
          "output_type": "stream",
          "name": "stdout",
          "text": [
            "Drive already mounted at /content/drive; to attempt to forcibly remount, call drive.mount(\"/content/drive\", force_remount=True).\n",
            "fatal: destination path 'MoEDAL-ML-ANA' already exists and is not an empty directory.\n"
          ]
        }
      ],
      "source": [
        "#  mount google drive to get access to the data sets\n",
        "from google.colab import drive\n",
        "drive.mount('/content/drive')\n",
        "\n",
        "\n",
        "# clone the repo with the modules (and this file)\n",
        "!git clone https://github.com/greyarea01/MoEDAL-ML-ANA.git\n",
        "\n",
        "# add work area to the PYTHONPATH\n",
        "import sys\n",
        "sys.path.append('/content/MoEDAL-ML-ANA/modules')\n",
        "\n",
        "imagePath='/content/drive/My Drive/Colab Notebooks/moedal-examples/pits_frontback_2d'"
      ]
    },
    {
      "cell_type": "code",
      "execution_count": null,
      "metadata": {
        "id": "HFLsiA81bRS1"
      },
      "outputs": [],
      "source": [
        "\n"
      ]
    },
    {
      "cell_type": "code",
      "execution_count": 2,
      "metadata": {
        "id": "GXPxv3U3cGzi"
      },
      "outputs": [],
      "source": [
        "def open_pits(file):\n",
        "    pits = 0\n",
        "    with open(file,'rb') as pickle_file:\n",
        "        pits = pickle.load(pickle_file)\n",
        "    # pits is a dictionary containing signal pits and background pits,\n",
        "    # for front surface, and reverse surface (r)\n",
        "\n",
        "    sig = pits['sig']\n",
        "    sigr = pits['sigr']\n",
        "    bkg = pits['bkg']\n",
        "    bkgr = pits['bkgr']\n",
        "    # pits are stored as a list of tuples\n",
        "    # pit_tuple = (slide index, x_pos, y_pos, 28*28 numpy array / image)\n",
        "\n",
        "    pit = sigr[0] # take 1st element in list\n",
        "    pit = pit[3] # take the image\n",
        "\n",
        "    sig_images = [ z[3] for z in sig ] # convert sig into a list of images\n",
        "    sig_array = np.asarray(sig_images) #can convert into array\n",
        "    bkg_images = [ j[3] for j in bkg ]\n",
        "    bkg_array = np.asarray(bkg_images)\n",
        "\n",
        "    \"\"\"\n",
        "    making labeled datasets from these lists\n",
        "\n",
        "    Either use ds label on a list to make a dataset\n",
        "    this can be concatenated and shuffled with the bkg dataset\n",
        "\n",
        "    Or generate a label array (see ds label), and use the arrays directly\n",
        "    \"\"\"\n",
        "\n",
        "#    sig_dataset = ds_label(sig_images,(1.0,0.0))\n",
        "#    bkg_dataset = ds_label(bkg_images,(0.0,1.0))\n",
        "    sig_label = [(1.0,0.0) for l in sig_array]\n",
        "    bkg_label = [(0.0,1.0) for l in bkg_array]\n",
        "\n",
        "    return sig_array, bkg_array, sig_label, bkg_label"
      ]
    }
  ],
  "metadata": {
    "colab": {
      "provenance": [],
      "include_colab_link": true
    },
    "kernelspec": {
      "display_name": "Python 3",
      "name": "python3"
    },
    "language_info": {
      "codemirror_mode": {
        "name": "ipython",
        "version": 3
      },
      "file_extension": ".py",
      "mimetype": "text/x-python",
      "name": "python",
      "nbconvert_exporter": "python",
      "pygments_lexer": "ipython3",
      "version": "3.9.7"
    }
  },
  "nbformat": 4,
  "nbformat_minor": 0
}