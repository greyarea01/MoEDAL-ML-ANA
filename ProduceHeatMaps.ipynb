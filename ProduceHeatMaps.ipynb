{
  "cells": [
    {
      "cell_type": "markdown",
      "metadata": {
        "id": "view-in-github",
        "colab_type": "text"
      },
      "source": [
        "<a href=\"https://colab.research.google.com/github/greyarea01/MoEDAL-ML-ANA/blob/main/ProduceHeatMaps.ipynb\" target=\"_parent\"><img src=\"https://colab.research.google.com/assets/colab-badge.svg\" alt=\"Open In Colab\"/></a>"
      ]
    },
    {
      "cell_type": "code",
      "execution_count": 1,
      "metadata": {
        "colab": {
          "base_uri": "https://localhost:8080/"
        },
        "id": "_2cC_bAVgYEu",
        "outputId": "c286df0a-67e2-4f3e-c55a-2ba41395d659"
      },
      "outputs": [
        {
          "output_type": "stream",
          "name": "stdout",
          "text": [
            "Mounted at /content/drive\n",
            "Cloning into 'MoEDAL-ML-ANA'...\n",
            "remote: Enumerating objects: 289, done.\u001b[K\n",
            "remote: Counting objects: 100% (289/289), done.\u001b[K\n",
            "remote: Compressing objects: 100% (219/219), done.\u001b[K\n",
            "remote: Total 289 (delta 86), reused 259 (delta 66), pack-reused 0 (from 0)\u001b[K\n",
            "Receiving objects: 100% (289/289), 7.16 MiB | 14.06 MiB/s, done.\n",
            "Resolving deltas: 100% (86/86), done.\n"
          ]
        }
      ],
      "source": [
        "#  mount google drive to get access to the data sets\n",
        "from google.colab import drive\n",
        "drive.mount('/content/drive')\n",
        "\n",
        "imagepath='/content/drive/MyDrive/moedal-examples/all_data_png'\n",
        "\n",
        "# clone the repo with the modules (and this file)\n",
        "!rm -rf /content/MoEDAL-ML-ANA\n",
        "!git clone https://github.com/greyarea01/MoEDAL-ML-ANA.git\n",
        "\n",
        "# add work area to the PYTHONPATH\n",
        "import sys\n",
        "sys.path.append('/content/MoEDAL-ML-ANA')\n",
        "sys.path.append('/content/MoEDAL-ML-ANA/modules')\n",
        "\n",
        "from dataset_tools import image_tools as it\n",
        "from dataset_tools import coordinates as cd\n",
        "from inference_tools import inference_tools as inf\n"
      ]
    },
    {
      "cell_type": "code",
      "execution_count": 2,
      "metadata": {
        "id": "HFLsiA81bRS1"
      },
      "outputs": [],
      "source": [
        "\n"
      ]
    }
  ],
  "metadata": {
    "colab": {
      "provenance": [],
      "toc_visible": true,
      "include_colab_link": true
    },
    "kernelspec": {
      "display_name": "Python 3",
      "name": "python3"
    },
    "language_info": {
      "codemirror_mode": {
        "name": "ipython",
        "version": 3
      },
      "file_extension": ".py",
      "mimetype": "text/x-python",
      "name": "python",
      "nbconvert_exporter": "python",
      "pygments_lexer": "ipython3",
      "version": "3.9.7"
    }
  },
  "nbformat": 4,
  "nbformat_minor": 0
}