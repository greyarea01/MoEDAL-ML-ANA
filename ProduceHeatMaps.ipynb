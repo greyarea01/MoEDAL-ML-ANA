{
  "cells": [
    {
      "cell_type": "markdown",
      "metadata": {
        "id": "view-in-github",
        "colab_type": "text"
      },
      "source": [
        "<a href=\"https://colab.research.google.com/github/greyarea01/MoEDAL-ML-ANA/blob/main/ProduceHeatMaps.ipynb\" target=\"_parent\"><img src=\"https://colab.research.google.com/assets/colab-badge.svg\" alt=\"Open In Colab\"/></a>"
      ]
    },
    {
      "cell_type": "code",
      "execution_count": 2,
      "metadata": {
        "colab": {
          "base_uri": "https://localhost:8080/"
        },
        "id": "_2cC_bAVgYEu",
        "outputId": "6821e6cb-538b-4656-9e2b-efb739edc118"
      },
      "outputs": [
        {
          "output_type": "stream",
          "name": "stdout",
          "text": [
            "Drive already mounted at /content/drive; to attempt to forcibly remount, call drive.mount(\"/content/drive\", force_remount=True).\n",
            "Cloning into 'MoEDAL-ML-ANA'...\n",
            "remote: Enumerating objects: 242, done.\u001b[K\n",
            "remote: Counting objects: 100% (242/242), done.\u001b[K\n",
            "remote: Compressing objects: 100% (182/182), done.\u001b[K\n",
            "remote: Total 242 (delta 71), reused 221 (delta 58), pack-reused 0 (from 0)\u001b[K\n",
            "Receiving objects: 100% (242/242), 6.99 MiB | 18.49 MiB/s, done.\n",
            "Resolving deltas: 100% (71/71), done.\n"
          ]
        }
      ],
      "source": [
        "#  mount google drive to get access to the data sets\n",
        "from google.colab import drive\n",
        "drive.mount('/content/drive')\n",
        "\n",
        "imagepath='/content/drive/MyDrive/moedal-examples/all_data_png'\n",
        "\n",
        "# clone the repo with the modules (and this file)\n",
        "!rm -rf /content/MoEDAL-ML-ANA\n",
        "!git clone https://github.com/greyarea01/MoEDAL-ML-ANA.git\n",
        "\n",
        "# add work area to the PYTHONPATH\n",
        "import sys\n",
        "sys.path.append('/content/MoEDAL-ML-ANA')\n",
        "sys.path.append('/content/MoEDAL-ML-ANA/modules')\n",
        "\n",
        "from dataset_tools import image_tools as it\n",
        "from dataset_tools import coordinates as cd\n"
      ]
    },
    {
      "cell_type": "code",
      "execution_count": null,
      "metadata": {
        "id": "HFLsiA81bRS1"
      },
      "outputs": [],
      "source": []
    }
  ],
  "metadata": {
    "colab": {
      "provenance": [],
      "toc_visible": true,
      "include_colab_link": true
    },
    "kernelspec": {
      "display_name": "Python 3",
      "name": "python3"
    },
    "language_info": {
      "codemirror_mode": {
        "name": "ipython",
        "version": 3
      },
      "file_extension": ".py",
      "mimetype": "text/x-python",
      "name": "python",
      "nbconvert_exporter": "python",
      "pygments_lexer": "ipython3",
      "version": "3.9.7"
    }
  },
  "nbformat": 4,
  "nbformat_minor": 0
}